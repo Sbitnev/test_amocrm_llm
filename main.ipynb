{
 "cells": [
  {
   "cell_type": "code",
   "execution_count": null,
   "id": "652c7914",
   "metadata": {},
   "outputs": [],
   "source": [
    "from common.database import get_db\n",
    "from common.models import *"
   ]
  },
  {
   "cell_type": "code",
   "execution_count": null,
   "id": "226c81e1",
   "metadata": {},
   "outputs": [],
   "source": [
    "from sqlalchemy import func, text, select"
   ]
  },
  {
   "cell_type": "code",
   "execution_count": null,
   "id": "4c5687c3",
   "metadata": {},
   "outputs": [],
   "source": [
    "import datetime as dt\n",
    "import statistics"
   ]
  },
  {
   "cell_type": "code",
   "execution_count": null,
   "id": "1f180924",
   "metadata": {},
   "outputs": [],
   "source": [
    "yesterday = dt.datetime.now() - dt.timedelta(days=1)\n",
    "start_dt = yesterday.replace(hour=0, minute=0, second=0)\n",
    "end_dt = yesterday.replace(hour=23, minute=59, second=59)"
   ]
  },
  {
   "cell_type": "code",
   "execution_count": null,
   "id": "81d1d6fb",
   "metadata": {},
   "outputs": [],
   "source": [
    "session = next(get_db())\n",
    "created_leads: int = session.query(func.count(Lead.id)).filter(start_dt <= Lead.created_at, Lead.created_at <= end_dt).scalar()\n",
    "print(created_leads)"
   ]
  },
  {
   "cell_type": "code",
   "execution_count": null,
   "id": "fc1c787e",
   "metadata": {},
   "outputs": [],
   "source": [
    "closed_lead_ids = (\n",
    "    session\n",
    "    .query(LeadStatusChange.lead_id)\n",
    "    .filter(\n",
    "        func.date(LeadStatusChange.created_at) == yesterday.date(), \n",
    "        LeadStatusChange.new_status_id == 142\n",
    "    )\n",
    "    .all()\n",
    ")\n",
    "closed_lead_ids = [row[0] for row in closed_lead_ids]\n",
    "print(closed_lead_ids)"
   ]
  },
  {
   "cell_type": "code",
   "execution_count": null,
   "id": "fc2a3342",
   "metadata": {},
   "outputs": [],
   "source": [
    "closed_leads = (\n",
    "    session\n",
    "    .query(Lead)\n",
    "    .filter(\n",
    "        Lead.id.in_(closed_lead_ids)\n",
    "    )\n",
    "    .all()\n",
    ")\n",
    "print(len(closed_leads))\n",
    "# for lead in closed_leads:\n",
    "#     if lead.status_id != 142:\n",
    "#         print(lead)"
   ]
  },
  {
   "cell_type": "code",
   "execution_count": null,
   "id": "64c2ae21",
   "metadata": {},
   "outputs": [],
   "source": [
    "sells = [lead.price for lead in closed_leads]"
   ]
  },
  {
   "cell_type": "code",
   "execution_count": null,
   "id": "0021b11c",
   "metadata": {},
   "outputs": [],
   "source": [
    "total = sum(sells)\n",
    "print(total)"
   ]
  },
  {
   "cell_type": "code",
   "execution_count": null,
   "id": "413419fc",
   "metadata": {},
   "outputs": [],
   "source": [
    "average = statistics.mean(sells)\n",
    "print(average)"
   ]
  },
  {
   "cell_type": "code",
   "execution_count": null,
   "id": "48f43325",
   "metadata": {},
   "outputs": [],
   "source": [
    "conversion = created_leads / len(closed_leads) if len(closed_leads) else 0\n",
    "print(conversion)"
   ]
  },
  {
   "cell_type": "code",
   "execution_count": null,
   "id": "d17048e9",
   "metadata": {},
   "outputs": [],
   "source": []
  }
 ],
 "metadata": {
  "kernelspec": {
   "display_name": ".venv",
   "language": "python",
   "name": "python3"
  },
  "language_info": {
   "codemirror_mode": {
    "name": "ipython",
    "version": 3
   },
   "file_extension": ".py",
   "mimetype": "text/x-python",
   "name": "python",
   "nbconvert_exporter": "python",
   "pygments_lexer": "ipython3",
   "version": "3.13.0"
  }
 },
 "nbformat": 4,
 "nbformat_minor": 5
}
